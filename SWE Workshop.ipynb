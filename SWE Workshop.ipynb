{
 "cells": [
  {
   "cell_type": "markdown",
   "metadata": {},
   "source": [
    "# _Big Discoveries with Big Data_\n",
    "\n",
    "#### From outing years of rigging behind some of the biggest games in sports, to shedding light on the slumlords of the nation’s major cities, to capturing and counting sunspots, data science serves one of the greatest roles in modern-day mystery solving and crime fighting. Data science discoveries have paved the way for incredible and sometimes shocking revelations in all sorts of topics ranging from climate science to the drug market. Learn how to manipulate massive amounts of data in order to find patterns in the chaos and help make the world a better place, data set by data set!\n"
   ]
  },
  {
   "cell_type": "markdown",
   "metadata": {},
   "source": [
    "### Questions to Consider:\n",
    "\n",
    "- What sort of data can we find?\n",
    "- What are some ways we can visualize data?\n",
    "- What types of trends can we find?\n"
   ]
  },
  {
   "cell_type": "markdown",
   "metadata": {},
   "source": []
  },
  {
   "cell_type": "code",
   "execution_count": 36,
   "metadata": {
    "collapsed": false
   },
   "outputs": [],
   "source": [
    "%matplotlib inline\n",
    "\n",
    "import pandas\n",
    "import matplotlib.pyplot as plt\n",
    "import numpy as np\n",
    "import wbdata\n",
    "import datetime"
   ]
  },
  {
   "cell_type": "code",
   "execution_count": 37,
   "metadata": {
    "collapsed": false
   },
   "outputs": [
    {
     "name": "stdout",
     "output_type": "stream",
     "text": [
      "11\tAfrica Development Indicators\n",
      "36\tStatistical Capacity Indicators\n",
      "31\tCountry Policy and Institutional Assessment (CPIA) \n",
      "41\tCountry Partnership Strategy for India \n",
      "26\tCorporate Scorecard\n",
      "1 \tDoing Business\n",
      "30\tExporter Dynamics Database: Country-Year\n",
      "12\tEducation Statistics\n",
      "13\tEnterprise Surveys\n",
      "28\tGlobal Findex ( Global Financial Inclusion database)\n",
      "33\tG20 Basic Set of Financial Inclusion Indicators\n",
      "14\tGender Statistics\n",
      "15\tGlobal Economic Monitor\n",
      "27\tGEP Economic Prospects\n",
      "32\tGlobal Financial Development\n",
      "21\tGlobal Economic Monitor (GEM) Commodities\n",
      "34\tGlobal Partnership for Education\n",
      "29\tGlobal Social Protection\n",
      "16\tHealth Nutrition and Population Statistics\n",
      "39\tHealth Nutrition and Population Statistics by Wealth Quintile\n",
      "40\tHealth Nutrition and Population Statistics: Population estimates and projections\n",
      "18\tInternational Development Association - Results Measurement System\n",
      "45\tINDO-DAPOER\n",
      "6 \tInternational Debt Statistics\n",
      "25\tJobs for Knowledge Platform\n",
      "37\tLAC Equity Lab\n",
      "19\tMillennium Development Goals\n",
      "24\tPovstats\n",
      "20\tQuarterly Public Sector Debt\n",
      "23\tQuarterly External Debt Statistics/GDDS (New)\n",
      "22\tQuarterly External Debt Statistics/SDDS (New)\n",
      "44\tReadiness for Investment in Sustainable Energy (RISE)\n",
      "35\tSustainable Energy for All\n",
      "5 \tSubnational Malnutrition Database\n",
      "38\tSubnational Poverty\n",
      "50\tSubnational Population\n",
      "43\tWealth accounting\n",
      "2 \tWorld Development Indicators\n",
      "3 \tWorldwide Governance Indicators\n"
     ]
    }
   ],
   "source": [
    "wbdata.get_source() #browse list of data sources/topics"
   ]
  },
  {
   "cell_type": "code",
   "execution_count": 38,
   "metadata": {
    "collapsed": false
   },
   "outputs": [
    {
     "name": "stdout",
     "output_type": "stream",
     "text": [
      "IC.BUS.EASE.XQ   \tEase of doing business index (1=most business-friendly regulations)\n",
      "IC.CRD.INFO.XQ   \tDepth of credit information index (0=low to 8=high)\n",
      "IC.CRD.PRVT.ZS   \tPrivate credit bureau coverage (% of adults)\n",
      "IC.CRD.PUBL.ZS   \tPublic credit registry coverage (% of adults)\n",
      "IC.DCP.COST      \tCost to build a warehouse (% of income per capita)\n",
      "IC.DCP.PROC      \tProcedures required to build a warehouse (number)\n",
      "IC.DCP.TIME      \tTime required to build a warehouse (days)\n",
      "IC.EC.COST       \tCost to enforce a contract (% of claim) \n",
      "IC.EC.PROC       \tProcedures required to enforce a contract (number)\n",
      "IC.EC.TIME       \tTime required to enforce a contract (days)\n",
      "IC.EXP.COST.EXP  \tTrade: Cost to export (US$ per container)\n",
      "IC.EXP.COST.IMP  \tTrade: Cost to import (US$ per container)\n",
      "IC.EXP.DOCS      \tDocuments to export (number)\n",
      "IC.EXP.DOCS.IMP  \tTrade: Documents to import (number)\n",
      "IC.EXP.TIME.EXP  \tTrade: Time to export (day)\n",
      "IC.EXP.TIME.IMP  \tTrade: Time to import (days)\n",
      "IC.GE.COST       \tCost to get electricity(% of income per capita)\n",
      "IC.GE.NUM        \tProcedures required to connect to electricity (number)\n",
      "IC.GE.TIME       \tTime required to connect to electricity (days)\n",
      "IC.IMP.DOCS      \tDocuments to import (number)\n",
      "IC.ISV.COP       \tCommencement of proceedings index (0-3)\n",
      "IC.ISV.COST      \tResolving insolvency: cost (% of estate)\n",
      "IC.ISV.CPI       \tCreditor participation index (0-4)\n",
      "IC.ISV.DURS      \tTime to resolve insolvency (years)\n",
      "IC.ISV.MODA      \tManagement of debtor's assets index (0-6)\n",
      "IC.ISV.OTCM      \tOutcome (0 as piecemeal sale and 1 as going concern)\n",
      "IC.ISV.RECRT     \tResolving insolvency: recovery rate (cents on the dollar)\n",
      "IC.ISV.RP        \tReorganization proceedings index (0-3)\n",
      "IC.ISV.SOIF      \tStrength of insolvency framework index (0-16)\n",
      "IC.LGL.CRED.XQ   \tStrength of legal rights index (0=weak to 12=strong)\n",
      "IC.LIC.NUM       \tProcedures required to build a warehouse (number)\n",
      "IC.LIC.TIME      \tTime required to build a warehouse (days)\n",
      "IC.PI.CIR        \tExtent of conflict of interest regulation index (0-10)\n",
      "IC.PI.CT         \tExtent of corporate transparency index (0-9)\n",
      "IC.PI.DIR        \tExtent of director liability index (0 to 10)\n",
      "IC.PI.DISCL      \tExtent of disclosure index (0 to 10)\n",
      "IC.PI.INV        \tStrength of investor protection index (0 to 10)\n",
      "IC.PI.SG         \tExtent of shareholder governance index (0-10)\n",
      "IC.PI.SHAR       \tEase of shareholder suits index (0 to 10) \n",
      "IC.PI.SOGS       \tStrength of governance structure index (0-10.5)\n",
      "IC.PI.SR         \tExtent of shareholder rights index (0-10.5)\n",
      "IC.REG.CAP       \tMinimum paid-in capital required to start a business (% of income per capita)\n",
      "IC.REG.COST      \tCost to start a business (% of income per capita)\n",
      "IC.REG.DURS      \tTime required to start a business (days)\n",
      "IC.REG.PROC      \tStart-up procedures to register a business (number)\n",
      "IC.RP.COST       \tCost to register property (% of property value)\n",
      "IC.RP.PROC       \tProcedures required to register property (number)\n",
      "IC.RP.TIME       \tTime required to register property (days)\n",
      "IC.TAX.DURS      \tTime to prepare and pay taxes (hours)\n",
      "IC.TAX.PAYM      \tTax payments (number)\n",
      "IC.TAX.TOTL.CP.ZS\tTotal tax rate (% of commercial profits)\n"
     ]
    }
   ],
   "source": [
    "wbdata.get_indicator(source = 1)"
   ]
  },
  {
   "cell_type": "code",
   "execution_count": 39,
   "metadata": {
    "collapsed": false
   },
   "outputs": [
    {
     "name": "stdout",
     "output_type": "stream",
     "text": [
      "6.0.GNIpc        \tGNI per capita (2011 $)\n",
      "DC.ODA.TLDC.GN.ZS\tNet ODA provided to the least developed countries (% of GNI)\n",
      "DC.ODA.TOTL.GN.ZS\tNet ODA provided, total (% of GNI)\n",
      "DT.DOD.DECT.GN.ZS\tExternal debt stocks (% of GNI)\n",
      "DT.DOD.PVLX.GN.ZS\tPresent value of external debt (% of GNI)\n",
      "DT.INT.DECT.GN.ZS\tInterest payments on external debt (% of GNI)\n",
      "DT.ODA.ODAT.GN.ZS\tNet ODA received (% of GNI)\n",
      "DT.TDS.DECT.GN.ZS\tTotal debt service (% of GNI)\n",
      "DT.TDS.DPPG.GN.ZS\tPublic and publicly guaranteed debt service (% of GNI)\n",
      "IC.FRM.INNOV.T1  \tPercent of firms with an internationally-recognized quality certification\n",
      "IC.FRM.ISOC.ZS   \tInternationally-recognized quality certification (% of firms)\n",
      "IC.REG.COST.PC.ZS\tCost of business start-up procedures (% of GNI per capita)\n",
      "NY.ADJ.AEDU.GN.ZS\tAdjusted savings: education expenditure (% of GNI)\n",
      "NY.ADJ.DCO2.GN.ZS\tAdjusted savings: carbon dioxide damage (% of GNI)\n",
      "NY.ADJ.DFOR.GN.ZS\tAdjusted savings: net forest depletion (% of GNI)\n",
      "NY.ADJ.DKAP.GN.ZS\tAdjusted savings: consumption of fixed capital (% of GNI)\n",
      "NY.ADJ.DMIN.GN.ZS\tAdjusted savings: mineral depletion (% of GNI)\n",
      "NY.ADJ.DNGY.GN.ZS\tAdjusted savings: energy depletion (% of GNI)\n",
      "NY.ADJ.DPEM.GN.ZS\tAdjusted savings: particulate emission damage (% of GNI)\n",
      "NY.ADJ.DRES.GN.ZS\tAdjusted savings: natural resources depletion (% of GNI)\n",
      "NY.ADJ.ICTR.GN.ZS\tAdjusted savings: gross savings (% of GNI)\n",
      "NY.ADJ.NNAT.GN.ZS\tAdjusted savings: net national savings (% of GNI)\n",
      "NY.ADJ.SVNG.GN.ZS\tAdjusted net savings, including particulate emission damage (% of GNI)\n",
      "NY.ADJ.SVNX.GN.ZS\tAdjusted net savings, excluding particulate emission damage (% of GNI)\n",
      "NY.GNP.ATLS.CD   \tGNI, Atlas method (current US$)\n",
      "NY.GNP.MKTP.CD   \tGNI (current US$)\n",
      "NY.GNP.MKTP.CN   \tGNI (current LCU)\n",
      "NY.GNP.MKTP.KD   \tGNI (constant 2005 US$)\n",
      "NY.GNP.MKTP.KD.ZG\tGNI growth (annual %)\n",
      "NY.GNP.MKTP.KN   \tGNI (constant LCU)\n",
      "NY.GNP.MKTP.PP.CD\tGNI, PPP (current international $)\n",
      "NY.GNP.MKTP.PP.KD\tGNI, PPP (constant 2011 international $)\n",
      "NY.GNP.PCAP.CD   \tGNI per capita, Atlas method (current US$)\n",
      "NY.GNP.PCAP.CN   \tGNI per capita (current LCU)\n",
      "NY.GNP.PCAP.KD   \tGNI per capita (constant 2005 US$)\n",
      "NY.GNP.PCAP.KD.ZG\tGNI per capita growth (annual %)\n",
      "NY.GNP.PCAP.KN   \tGNI per capita (constant LCU)\n",
      "NY.GNP.PCAP.PP.CD\tGNI per capita, PPP (current international $)\n",
      "NY.GNP.PCAP.PP.KD\tGNI per capita, PPP (constant 2011 international $)\n",
      "NY.GNS.ICTR.GN.ZS\tGross savings (% of GNI)\n"
     ]
    }
   ],
   "source": [
    "wbdata.search_indicators(\"GNI\")\n",
    "\n",
    "#pick the indicators I want, add to this dictionary if we want more than one\n",
    "indicators = {'NY.GNP.PCAP.CD':'GNI per Capita'}"
   ]
  },
  {
   "cell_type": "code",
   "execution_count": 40,
   "metadata": {
    "collapsed": false
   },
   "outputs": [
    {
     "name": "stdout",
     "output_type": "stream",
     "text": [
      "ARE\tUnited Arab Emirates\n",
      "GBR\tUnited Kingdom\n",
      "USA\tUnited States\n"
     ]
    }
   ],
   "source": [
    "wbdata.search_countries(\"united\")\n",
    "\n",
    "#pick the countries I want\n",
    "countries = [\"US\",\"CN\"]"
   ]
  },
  {
   "cell_type": "code",
   "execution_count": 41,
   "metadata": {
    "collapsed": false
   },
   "outputs": [],
   "source": [
    "data_date = (datetime.datetime(2010, 1, 1), datetime.datetime(2011, 1, 1))\n",
    "\n",
    "#wbdata.get_data(\"IC.BUS.EASE.XQ\", country=(\"USA\", \"GBR\", \"CHN\"), data_date=data_date)"
   ]
  },
  {
   "cell_type": "code",
   "execution_count": 42,
   "metadata": {
    "collapsed": false
   },
   "outputs": [
    {
     "data": {
      "text/html": [
       "<div>\n",
       "<table border=\"1\" class=\"dataframe\">\n",
       "  <thead>\n",
       "    <tr style=\"text-align: right;\">\n",
       "      <th></th>\n",
       "      <th>GNI per Capita</th>\n",
       "    </tr>\n",
       "  </thead>\n",
       "  <tbody>\n",
       "    <tr>\n",
       "      <th>count</th>\n",
       "      <td>4.000000</td>\n",
       "    </tr>\n",
       "    <tr>\n",
       "      <th>mean</th>\n",
       "      <td>27175.000000</td>\n",
       "    </tr>\n",
       "    <tr>\n",
       "      <th>std</th>\n",
       "      <td>26018.406946</td>\n",
       "    </tr>\n",
       "    <tr>\n",
       "      <th>min</th>\n",
       "      <td>4300.000000</td>\n",
       "    </tr>\n",
       "    <tr>\n",
       "      <th>25%</th>\n",
       "      <td>4825.000000</td>\n",
       "    </tr>\n",
       "    <tr>\n",
       "      <th>50%</th>\n",
       "      <td>26975.000000</td>\n",
       "    </tr>\n",
       "    <tr>\n",
       "      <th>75%</th>\n",
       "      <td>49325.000000</td>\n",
       "    </tr>\n",
       "    <tr>\n",
       "      <th>max</th>\n",
       "      <td>50450.000000</td>\n",
       "    </tr>\n",
       "  </tbody>\n",
       "</table>\n",
       "</div>"
      ],
      "text/plain": [
       "       GNI per Capita\n",
       "count        4.000000\n",
       "mean     27175.000000\n",
       "std      26018.406946\n",
       "min       4300.000000\n",
       "25%       4825.000000\n",
       "50%      26975.000000\n",
       "75%      49325.000000\n",
       "max      50450.000000"
      ]
     },
     "execution_count": 42,
     "metadata": {},
     "output_type": "execute_result"
    }
   ],
   "source": [
    "df = wbdata.get_dataframe(indicators, country=countries, data_date=data_date, convert_date=False)\n",
    "df.describe()"
   ]
  },
  {
   "cell_type": "code",
   "execution_count": 43,
   "metadata": {
    "collapsed": false
   },
   "outputs": [
    {
     "data": {
      "text/html": [
       "<div>\n",
       "<table border=\"1\" class=\"dataframe\">\n",
       "  <thead>\n",
       "    <tr>\n",
       "      <th></th>\n",
       "      <th colspan=\"2\" halign=\"left\">GNI per Capita</th>\n",
       "    </tr>\n",
       "    <tr>\n",
       "      <th>country</th>\n",
       "      <th>China</th>\n",
       "      <th>United States</th>\n",
       "    </tr>\n",
       "    <tr>\n",
       "      <th>date</th>\n",
       "      <th></th>\n",
       "      <th></th>\n",
       "    </tr>\n",
       "  </thead>\n",
       "  <tbody>\n",
       "    <tr>\n",
       "      <th>2010</th>\n",
       "      <td>4300</td>\n",
       "      <td>48950</td>\n",
       "    </tr>\n",
       "    <tr>\n",
       "      <th>2011</th>\n",
       "      <td>5000</td>\n",
       "      <td>50450</td>\n",
       "    </tr>\n",
       "  </tbody>\n",
       "</table>\n",
       "</div>"
      ],
      "text/plain": [
       "        GNI per Capita              \n",
       "country          China United States\n",
       "date                                \n",
       "2010              4300         48950\n",
       "2011              5000         50450"
      ]
     },
     "execution_count": 43,
     "metadata": {},
     "output_type": "execute_result"
    }
   ],
   "source": [
    "dfu = df.unstack(level=0)\n",
    "\n",
    "dfu.head()"
   ]
  },
  {
   "cell_type": "code",
   "execution_count": 44,
   "metadata": {
    "collapsed": false
   },
   "outputs": [
    {
     "data": {
      "text/plain": [
       "<matplotlib.text.Text at 0x25b0ae99748>"
      ]
     },
     "execution_count": 44,
     "metadata": {},
     "output_type": "execute_result"
    },
    {
     "data": {
      "image/png": "[encoded data removed]",
      "text/plain": [
       "<matplotlib.figure.Figure at 0x25b0ae56f28>"
      ]
     },
     "metadata": {},
     "output_type": "display_data"
    }
   ],
   "source": [
    "dfu.plot()\n",
    "plt.legend(loc='best')\n",
    "plt.title(\"GNI Per Capita ($USD, Atlas Method)\")\n",
    "plt.xlabel('Date')\n",
    "plt.ylabel('GNI Per Capita ($USD, Atlas Method')"
   ]
  },
  {
   "cell_type": "markdown",
   "metadata": {},
   "source": [
    "### What Have We Learned? And What's Next?"
   ]
  },
  {
   "cell_type": "markdown",
   "metadata": {},
   "source": [
    "Sources:\n",
    "\n",
    "http://rowanv.com/portfolio/gender_olympics_ipython\n",
    "\n",
    "http://data.worldbank.org/topic/gender\n",
    "\n",
    "http://blogs.worldbank.org/opendata/accessing-world-bank-data-apis-python-r-ruby-stata\n",
    "\n",
    "http://github.com/OliverSherouse/wbdata"
   ]
  }
 ],
 "metadata": {
  "kernelspec": {
   "display_name": "Python 3",
   "language": "python",
   "name": "python3"
  },
  "language_info": {
   "codemirror_mode": {
    "name": "ipython",
    "version": 3
   },
   "file_extension": ".py",
   "mimetype": "text/x-python",
   "name": "python",
   "nbconvert_exporter": "python",
   "pygments_lexer": "ipython3",
   "version": "3.5.1"
  }
 },
 "nbformat": 4,
 "nbformat_minor": 0
}
