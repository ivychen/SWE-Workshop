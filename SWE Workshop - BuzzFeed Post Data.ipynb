{
 "cells": [
  {
   "cell_type": "markdown",
   "metadata": {},
   "source": [
    "# _Big Discoveries with Big Data_\n",
    "\n",
    "#### From outing years of rigging behind some of the biggest games in sports, to shedding light on the slumlords of the nation’s major cities, to capturing and counting sunspots, data science serves one of the greatest roles in modern-day mystery solving and crime fighting. Data science discoveries have paved the way for incredible and sometimes shocking revelations in all sorts of topics ranging from climate science to the drug market. Learn how to manipulate massive amounts of data in order to find patterns in the chaos and help make the world a better place, data set by data set!\n",
    "\n",
    "\n",
    "I took [this](http://nbviewer.jupyter.org/gist/nealcaren/5105037) and used it on a custom corpus but due to the discrepancies between Python versions, I need to update it for Python3.\n",
    "\n",
    "### Questions to Consider:\n",
    "\n",
    "- What are some ways we can visualize data?\n",
    "\n",
    "Segments of code, examples, visuals, tests they can implement in python notebook:"
   ]
  },
  {
   "cell_type": "markdown",
   "metadata": {},
   "source": [
    "Answer for question, analysis/summary of the data they just played with:\n",
    "\n",
    "### What Have We Learned? And What's Next?"
   ]
  },
  {
   "cell_type": "code",
   "execution_count": 89,
   "metadata": {
    "collapsed": false
   },
   "outputs": [
    {
     "name": "stdout",
     "output_type": "stream",
     "text": [
      "[nltk_data] Downloading package punkt to\n",
      "[nltk_data]     C:\\Users\\Ivy\\AppData\\Roaming\\nltk_data...\n",
      "[nltk_data]   Package punkt is already up-to-date!\n"
     ]
    }
   ],
   "source": [
    "from __future__ import division\n",
    "\n",
    "import glob\n",
    "import nltk\n",
    "nltk.download('punkt')\n",
    "\n",
    "from string import punctuation\n",
    "\n",
    "tokenizer = nltk.data.load('tokenizers/punkt/english.pickle')"
   ]
  },
  {
   "cell_type": "code",
   "execution_count": 90,
   "metadata": {
    "collapsed": true
   },
   "outputs": [],
   "source": [
    "#Two lists  of words that are used when a man or woman is present, based on Danielle Sucher's https://github.com/DanielleSucher/Jailbreak-the-Patriarchy\n",
    "male_words=set(['Trump','guy','spokesman','chairman',\"men's\",'men','him',\"he's\",'his','boy','boyfriend','boyfriends','boys','brother','brothers','dad','dads','dude','father','fathers','fiance','gentleman','gentlemen','god','grandfather','grandpa','grandson','groom','he','himself','husband','husbands','king','male','man','mr','nephew','nephews','priest','prince','son','sons','uncle','uncles','waiter','widower','widowers'])\n",
    "female_words=set(['heroine','spokeswoman','chairwoman',\"women's\",'actress','women',\"she's\",'her','aunt','aunts','bride','daughter','daughters','female','fiancee','girl','girlfriend','girlfriends','girls','goddess','granddaughter','grandma','grandmother','herself','ladies','lady','lady','mom','moms','mother','mothers','mrs','ms','niece','nieces','priestess','princess','queens','she','sister','sisters','waitress','widow','widows','wife','wives','woman'])\n"
   ]
  },
  {
   "cell_type": "code",
   "execution_count": 91,
   "metadata": {
    "collapsed": true
   },
   "outputs": [],
   "source": [
    "def gender_the_sentence(sentence_words):\n",
    "    mw_length=len(male_words.intersection(sentence_words))\n",
    "    fw_length=len(female_words.intersection(sentence_words))\n",
    "\n",
    "    if mw_length>0 and fw_length==0:\n",
    "        gender='male'\n",
    "    elif mw_length==0 and fw_length>0: \n",
    "        gender='female'\n",
    "    elif mw_length>0 and fw_length>0: \n",
    "        gender='both'\n",
    "    else:\n",
    "        gender='none'\n",
    "    return gender"
   ]
  },
  {
   "cell_type": "code",
   "execution_count": 92,
   "metadata": {
    "collapsed": false
   },
   "outputs": [],
   "source": [
    "def is_it_proper(word):\n",
    "        if word[0]==word[0].upper():\n",
    "            case='upper'\n",
    "        else:\n",
    "            case='lower'\n",
    "        \n",
    "        word_lower=word.lower()\n",
    "        try:\n",
    "            proper_nouns[word_lower][case] = proper_nouns[word_lower].get(case,0)+1\n",
    "        except Exception as e:\n",
    "            #This is triggered when the word hasn't been seen yet\n",
    "            proper_nouns[word_lower]= {case:1}"
   ]
  },
  {
   "cell_type": "code",
   "execution_count": 93,
   "metadata": {
    "collapsed": true
   },
   "outputs": [],
   "source": [
    "def increment_gender(sentence_words,gender):\n",
    "    sentence_counter[gender]+=1\n",
    "    word_counter[gender]+=len(sentence_words)\n",
    "    for word in sentence_words:\n",
    "        word_freq[gender][word]=word_freq[gender].get(word,0)+1"
   ]
  },
  {
   "cell_type": "code",
   "execution_count": 94,
   "metadata": {
    "collapsed": true
   },
   "outputs": [],
   "source": [
    "sexes=['male','female','none','both']\n",
    "sentence_counter={sex:0 for sex in sexes}\n",
    "word_counter={sex:0 for sex in sexes}\n",
    "word_freq={sex:{} for sex in sexes}\n",
    "proper_nouns={}"
   ]
  },
  {
   "cell_type": "code",
   "execution_count": 95,
   "metadata": {
    "collapsed": true
   },
   "outputs": [],
   "source": [
    "file_list=glob.glob('articles/*.txt')"
   ]
  },
  {
   "cell_type": "code",
   "execution_count": 96,
   "metadata": {
    "collapsed": false
   },
   "outputs": [],
   "source": [
    "for file_name in file_list:\n",
    "    #Open the file\n",
    "    text = open(file_name,'rb').read()\n",
    "    \n",
    "    #Split into sentences\n",
    "    try:\n",
    "        sentences = tokenizer.tokenize(text)\n",
    "    except:\n",
    "        pass\n",
    "    \n",
    "    \n",
    "    for sentence in sentences:\n",
    "        #word tokenize and strip punctuation\n",
    "            sentence_words=sentence.split()\n",
    "            sentence_words=[w.strip(punctuation) for w in sentence_words \n",
    "                            if len(w.strip(punctuation))>0]\n",
    "            \n",
    "            #figure out how often each word is capitalized\n",
    "            [is_it_proper(word) for word in sentence_words[1:]]\n",
    "\n",
    "            #lower case it\n",
    "            sentence_words=set([w.lower() for w in sentence_words])\n",
    "            \n",
    "            #Figure out if there are gendered words in the sentence by computing the length of the intersection of the sets\n",
    "            gender=gender_the_sentence(sentence_words)\n",
    "\n",
    "            #Increment some counters\n",
    "            increment_gender(sentence_words,gender)"
   ]
  },
  {
   "cell_type": "code",
   "execution_count": 97,
   "metadata": {
    "collapsed": true
   },
   "outputs": [],
   "source": [
    "proper_nouns=set([word for word in proper_nouns if  \n",
    "                  proper_nouns[word].get('upper',0) / \n",
    "                  (proper_nouns[word].get('upper',0) + \n",
    "                   proper_nouns[word].get('lower',0))>.50])"
   ]
  },
  {
   "cell_type": "code",
   "execution_count": 98,
   "metadata": {
    "collapsed": false
   },
   "outputs": [
    {
     "name": "stdout",
     "output_type": "stream",
     "text": [
      "{'period': 5, 'very': 20, '20': 5, 'said': 25, 'decided': 10, 'go': 10, 'caterpillar': 5, 'bothers': 5, 'told': 10, 'fox': 10, 'story': 5, 'how': 10, 'number': 5, 'so': 15, 'if': 20, 'should': 5, 'hope': 10, 'trump': 30, 'congratulate': 5, 'about': 40, 'watched': 5, 'win': 30, 'congress': 10, 'versus': 5, 'today': 10, 'going': 25, 'tractors': 5, 'enough': 5, 'fact': 5, 'were': 5, 'which': 5, 'probably': 5, 'went': 5, 'this': 20, 'by': 5, 'rubio': 5, 'bring': 5, 'uniting': 5, 'excavation': 5, 'look': 10, 'him': 45, 'hasn’t': 25, 'all': 10, 'nasty': 5, 'it’s': 10, 'often': 5, 'be': 10, 'earlier': 5, 'question': 30, 'far': 5, 'campaign': 10, 'who': 15, 'mr': 25, 'no': 10, 'man': 5, 'orders': 5, 'lightweight': 5, 'your': 10, 'fall': 5, 'came': 5, 'room': 5, 'cannot': 5, 'controlled': 5, 'make': 5, 'does': 15, 'endorsement': 5, 'movement': 5, 'bad': 5, 'percent': 5, 'japan': 5, 'washington': 5, 'did': 10, 'with': 35, 'doesn’t': 5, 'because': 5, 'ultimate': 5, 'wins': 5, 'anything': 25, 'cut': 5, 'talked': 5, 'night': 10, 'they’ve': 5, 'icahn': 5, 'down': 5, 'congressmen': 5, 'right': 5, 'was': 15, 'things': 10, 'on': 10, 'before': 5, 'house': 5, 'in': 30, 'inaudible': 10, 'along': 15, 'even': 10, 'done': 5, 'close': 5, 'me': 20, 'it': 30, 'speaker': 5, 'at': 10, '“donald': 5, 'became': 5, 'back': 5, 'is': 45, 'expected': 5, 'vincente': 5, 'know': 35, 'such': 5, 'always': 15, 'hurt': 10, 'something': 5, 'work': 5, 'care': 5, 'until': 5, 'actually': 10, 'don’t': 15, 'tough': 5, 'ordered': 5, 'his': 5, 'kkk': 5, 'call': 5, 'worse': 5, 'honestly': 5, 'used': 10, 'komatsu': 5, 'maker': 5, 'control': 5, 'rickles': 5, 'lot': 5, 'got': 5, 'nobody': 5, 'a': 80, 'anymore': 5, 'companies': 5, 'had': 15, 'hate': 5, 'ted': 5, 'hillary': 5, 'spoke': 5, 'he’s': 10, 'pay': 5, 'bit': 5, 'don': 5, 'yen': 5, 'son': 5, 'liked': 10, 'ex-president': 5, 'total': 5, 'to': 80, 'of': 60, 'yourself': 5, 'leader': 5, 'and': 60, 'great': 10, 'get': 30, 'chris': 5, 'second': 5, 'when': 10, 'businessman': 5, 'mitch': 10, 'would’ve': 5, 'been': 5, 'business': 5, 'angry': 5, 'or': 10, 'from': 5, 'than': 5, 'recently': 5, 'but': 50, 'badly': 5, 'deal': 15, 'money': 10, 'worked': 10, 'way': 5, 'working': 5, 'well': 15, 'states': 5, 'mcconnell': 10, 'like': 5, 'them': 10, 'one': 10, 'many': 5, 'clinton': 5, 'hard': 10, 'who’s': 5, 'able': 10, 'these': 5, 'totally': 5, 'indeed': 5, 'paul': 15, 'ago': 5, 'saying': 5, 'are': 10, 'clear': 5, 'time': 10, 'amounts': 5, 'sure': 5, 'reason': 5, 'i': 60, 'i’m': 15, 'that': 30, 'eric': 5, 'mine': 15, 'much': 10, 'called': 10, 'suggest': 5, 'only': 5, 'you': 35, 'carl': 5, 'critical': 5, 'week': 5, 'muslims': 5, 'we': 5, 'become': 5, 'they': 5, 'marco': 10, 'friend': 15, 'come': 5, 'do': 15, 'tell': 15, 'concept': 5, 'cnn': 5, 'as': 10, 'spent': 5, 'newscasts': 5, 'talking': 5, 'ok': 5, 'i’ve': 10, 'let': 5, 'losing': 10, 'seen': 5, 'negotiator': 5, 'ever': 20, 'not': 20, 'have': 15, 'times': 5, 'first': 5, 'senate': 5, 'for': 10, 'focused': 5, 'nominee': 5, 'kentucky': 5, 'word': 10, 'endorsed': 5, 'movement.”': 5, 'where': 5, 'tonight': 5, 'coming': 5, 'the': 65, 'into': 5, 'role': 5, 'they’ll': 5, 'away': 5, 'out': 5, 'we’re': 5, 'necessary': 5, 'won': 20, 'felt': 5, 'you’ve': 5, 'florida': 5, 'most': 5, 'realize': 5, 'ryan': 15, 'my': 5, 'little': 5, 'according': 5, 'folks': 5, 'really': 5, 'wall': 5, 'he': 155, 'majority': 5, 'dividing': 5, 'you’re': 10, 'somebody': 10, 'arrogance': 5, 'never': 10, 'what': 15, 'cruz': 5, 'mexico': 5, 'speak': 10, 'hostile': 5, 'some': 10, 'groups': 5, 'didn’t': 15, '15': 5, '—': 45, 'tremendous': 5, 'calls': 5}\n"
     ]
    }
   ],
   "source": [
    "common_words=set([w for w in sorted (word_freq['female'],\n",
    "                                     key=word_freq['female'].get,reverse=True)[:1000]]+[w for w in sorted (word_freq['male'],key=word_freq['male'].get,reverse=True)[:1000]])\n",
    "print(word_freq['male'])\n",
    "\n",
    "common_words=list(common_words-male_words-female_words-proper_nouns)"
   ]
  },
  {
   "cell_type": "code",
   "execution_count": 99,
   "metadata": {
    "collapsed": true
   },
   "outputs": [],
   "source": [
    "male_percent={word:(word_freq['male'].get(word,0) / word_counter['male']) \n",
    "              / (word_freq['female'].get(word,0) / word_counter['female']+word_freq['male'].get(word,0)/word_counter['male']) for word in common_words}"
   ]
  },
  {
   "cell_type": "code",
   "execution_count": 100,
   "metadata": {
    "collapsed": false,
    "scrolled": false
   },
   "outputs": [
    {
     "name": "stdout",
     "output_type": "stream",
     "text": [
      "Male words\n",
      "Ratio\tMale\tFemale\tWord\n",
      "100.0\t05\t00\tperiod\n",
      "100.0\t10\t00\tdecided\n",
      "100.0\t05\t00\tbothers\n",
      "100.0\t05\t00\tbusinessman\n",
      "100.0\t05\t00\tvincente\n",
      "100.0\t10\t00\thow\n",
      "100.0\t05\t00\tcannot\n",
      "100.0\t05\t00\tclear\n",
      "100.0\t05\t00\tthey’ve\n",
      "100.0\t10\t00\thope\n",
      "100.0\t05\t00\tconcept\n",
      "100.0\t05\t00\tspeaker\n",
      "100.0\t10\t00\tword\n",
      "100.0\t30\t00\twin\n",
      "100.0\t05\t00\tversus\n",
      "100.0\t05\t00\tbusiness\n",
      "100.0\t10\t00\ttoday\n",
      "100.0\t05\t00\ttractors\n",
      "100.0\t05\t00\tfact\n",
      "100.0\t05\t00\twere\n",
      "100.0\t05\t00\troom\n",
      "100.0\t05\t00\ttotal\n",
      "100.0\t05\t00\texcavation\n",
      "100.0\t05\t00\tnominee\n",
      "100.0\t05\t00\tnasty\n",
      "100.0\t05\t00\toften\n",
      "100.0\t05\t00\tearlier\n",
      "100.0\t15\t00\twho\n",
      "100.0\t05\t00\tarrogance\n",
      "100.0\t10\t00\tcampaign\n",
      "100.0\t05\t00\tbecome\n",
      "100.0\t10\t00\tno\n",
      "100.0\t05\t00\torders\n",
      "100.0\t05\t00\thate\n",
      "100.0\t05\t00\tlightweight\n",
      "100.0\t10\t00\tyour\n",
      "100.0\t05\t00\tmovement.”\n",
      "100.0\t05\t00\tfall\n",
      "100.0\t05\t00\tcome\n",
      "100.0\t05\t00\tcare\n",
      "100.0\t15\t00\tdoes\n",
      "100.0\t05\t00\tcoming\n",
      "100.0\t05\t00\tmovement\n",
      "100.0\t15\t00\tmine\n",
      "100.0\t05\t00\tpercent\n",
      "100.0\t10\t00\thard\n",
      "100.0\t05\t00\twins\n",
      "100.0\t05\t00\tcut\n",
      "100.0\t10\t00\tnight\n",
      "100.0\t05\t00\tcongressmen\n",
      "\n",
      "\n",
      "\n",
      "Female words\n",
      "Ratio\tMale\tFemale\tWord\n",
      "100.0\t0\t5\tthen\n",
      "100.0\t0\t5\twanted\n",
      "100.0\t0\t5\tyet\n",
      "100.0\t0\t15\tmillions\n",
      "100.0\t0\t5\tact\n",
      "100.0\t0\t20\tshe’s\n",
      "100.0\t0\t5\thas\n",
      "100.0\t0\t5\tallowed\n",
      "100.0\t0\t5\trecord\n",
      "100.0\t0\t5\tbig\n",
      "100.0\t0\t5\tnext\n",
      "100.0\t0\t5\tmaking\n",
      "100.0\t0\t5\tletters\n",
      "100.0\t0\t5\tsad\n",
      "100.0\t0\t5\tcriminal\n",
      "100.0\t0\t5\tfigure\n",
      "100.0\t0\t10\tother\n",
      "100.0\t0\t5\tsoon\n",
      "100.0\t0\t10\twrong\n",
      "100.0\t0\t5\tspeech\n",
      "100.0\t0\t5\there\n",
      "100.0\t0\t10\ttheir\n",
      "100.0\t0\t5\tbeat\n",
      "100.0\t0\t5\tday\n",
      "100.0\t0\t5\tliterally\n",
      "100.0\t0\t5\tlooked\n",
      "100.0\t0\t5\tperson\n",
      "100.0\t0\t5\tstraightened\n",
      "100.0\t0\t5\tthousands\n",
      "100.0\t0\t5\tfour\n",
      "100.0\t0\t5\tprice\n",
      "100.0\t0\t15\tjust\n",
      "100.0\t0\t5\tpouring\n",
      "100.0\t0\t5\tsecretary\n",
      "100.0\t0\t10\thelped\n",
      "100.0\t0\t5\ttrying\n",
      "100.0\t0\t5\twants\n",
      "100.0\t0\t5\tagain\n",
      "100.0\t0\t5\tthink\n",
      "100.0\t0\t5\tpaid\n",
      "100.0\t0\t5\trun\n",
      "100.0\t0\t5\tcan’t\n",
      "100.0\t0\t5\tmeeting\n",
      "100.0\t0\t5\tcountry\n",
      "100.0\t0\t5\tstraighten\n",
      "100.0\t0\t5\twhole\n",
      "100.0\t0\t5\tthey’re\n",
      "100.0\t0\t5\thaving\n",
      "100.0\t0\t5\tpicked\n",
      "100.0\t0\t5\tescalator\n"
     ]
    }
   ],
   "source": [
    "header ='Ratio\\tMale\\tFemale\\tWord'\n",
    "print('Male words')\n",
    "print(header)\n",
    "for word in sorted (male_percent,key=male_percent.get,reverse=True)[:50]:\n",
    "    try:\n",
    "        ratio=male_percent[word]/(1-male_percent[word])\n",
    "    except:\n",
    "        ratio=100\n",
    "    print('%.1f\\t%02d\\t%02d\\t%s' % (ratio,word_freq['male'].get(word,0),word_freq['female'].get(word,0),word))\n",
    "\n",
    "print('\\n'*2)\n",
    "print('Female words')\n",
    "print(header)\n",
    "for word in sorted (male_percent,key=male_percent.get,reverse=False)[:50]:\n",
    "    try:\n",
    "        ratio=(1-male_percent[word])/male_percent[word]\n",
    "    except:\n",
    "        ratio=100\n",
    "    print('%.1f\\t%01d\\t%01d\\t%s' % (ratio,word_freq['male'].get(word,0),word_freq['female'].get(word,0),word))"
   ]
  }
 ],
 "metadata": {
  "kernelspec": {
   "display_name": "Python 3",
   "language": "python",
   "name": "python3"
  },
  "language_info": {
   "codemirror_mode": {
    "name": "ipython",
    "version": 3
   },
   "file_extension": ".py",
   "mimetype": "text/x-python",
   "name": "python",
   "nbconvert_exporter": "python",
   "pygments_lexer": "ipython3",
   "version": "3.5.1"
  }
 },
 "nbformat": 4,
 "nbformat_minor": 0
}
