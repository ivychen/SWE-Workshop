{
 "cells": [
  {
   "cell_type": "markdown",
   "metadata": {},
   "source": [
    "# _Big Discoveries with Big Data_\n",
    "\n",
    "#### From outing years of rigging behind some of the biggest games in sports, to shedding light on the slumlords of the nation’s major cities, to capturing and counting sunspots, data science serves one of the greatest roles in modern-day mystery solving and crime fighting. Data science discoveries have paved the way for incredible and sometimes shocking revelations in all sorts of topics ranging from climate science to the drug market. Learn how to manipulate massive amounts of data in order to find patterns in the chaos and help make the world a better place, data set by data set!\n"
   ]
  },
  {
   "cell_type": "markdown",
   "metadata": {},
   "source": [
    "### Questions to Consider:\n",
    "\n",
    "- What sort of data can we find?\n",
    "- What are some ways we can visualize data?\n",
    "- What types of trends can we find?\n"
   ]
  },
  {
   "cell_type": "markdown",
   "metadata": {},
   "source": [
    "### What Have We Learned? And What's Next?"
   ]
  },
  {
   "cell_type": "code",
   "execution_count": null,
   "metadata": {
    "collapsed": false
   },
   "outputs": [],
   "source": [
    "import pandas\n",
    "import matplotlib.pyplot as plt\n",
    "import numpy as np\n",
    "import wbdata\n",
    "import datetime"
   ]
  },
  {
   "cell_type": "code",
   "execution_count": null,
   "metadata": {
    "collapsed": false
   },
   "outputs": [],
   "source": [
    "wbdata.get_source() #browse list of data sources/topics"
   ]
  },
  {
   "cell_type": "code",
   "execution_count": null,
   "metadata": {
    "collapsed": false
   },
   "outputs": [],
   "source": [
    "wbdata.get_indicator(source = 1)"
   ]
  },
  {
   "cell_type": "code",
   "execution_count": null,
   "metadata": {
    "collapsed": false
   },
   "outputs": [],
   "source": [
    "wbdata.search_indicators(\"GNI\")\n",
    "\n",
    "#pick the indicators I want, add to this dictionary if we want more than one\n",
    "indicators = {'NY.GNP.PCAP.CD':'GNI per Capita'}"
   ]
  },
  {
   "cell_type": "code",
   "execution_count": null,
   "metadata": {
    "collapsed": false
   },
   "outputs": [],
   "source": [
    "wbdata.search_countries(\"united\")\n",
    "\n",
    "#pick the countries I want\n",
    "countries = [\"US\",\"CN\"]"
   ]
  },
  {
   "cell_type": "code",
   "execution_count": null,
   "metadata": {
    "collapsed": false
   },
   "outputs": [],
   "source": [
    "#data_date = (datetime.datetime(2010, 1, 1), datetime.datetime(2011, 1, 1))\n",
    "\n",
    "#wbdata.get_data(\"IC.BUS.EASE.XQ\", country=(\"USA\", \"GBR\", \"CHN\"), data_date=data_date)"
   ]
  },
  {
   "cell_type": "code",
   "execution_count": null,
   "metadata": {
    "collapsed": false
   },
   "outputs": [],
   "source": [
    "df = wbdata.get_dataframe(indicators, country=countries, convert_date=False)\n",
    "df.describe()"
   ]
  },
  {
   "cell_type": "code",
   "execution_count": null,
   "metadata": {
    "collapsed": false
   },
   "outputs": [],
   "source": [
    "dfu = df.unstack(level=0)\n",
    "\n",
    "dfu.head()"
   ]
  },
  {
   "cell_type": "code",
   "execution_count": null,
   "metadata": {
    "collapsed": false
   },
   "outputs": [],
   "source": [
    "dfu.plot()\n",
    "plt.legend(loc='best')\n",
    "plt.title(\"GNI Per Capita ($USD, Atlas Method)\")\n",
    "plt.xlabel('Date')\n",
    "plt.ylabel('GNI Per Capita ($USD, Atlas Method')\n",
    "plt.show()"
   ]
  },
  {
   "cell_type": "markdown",
   "metadata": {},
   "source": [
    "Sources:\n",
    "\n",
    "http://rowanv.com/portfolio/gender_olympics_ipython\n",
    "\n",
    "http://data.worldbank.org/topic/gender\n",
    "\n",
    "http://blogs.worldbank.org/opendata/accessing-world-bank-data-apis-python-r-ruby-stata\n",
    "\n",
    "http://github.com/OliverSherouse/wbdata"
   ]
  }
 ],
 "metadata": {
  "kernelspec": {
   "display_name": "Python 3",
   "language": "python",
   "name": "python3"
  },
  "language_info": {
   "codemirror_mode": {
    "name": "ipython",
    "version": 3
   },
   "file_extension": ".py",
   "mimetype": "text/x-python",
   "name": "python",
   "nbconvert_exporter": "python",
   "pygments_lexer": "ipython3",
   "version": "3.5.1"
  }
 },
 "nbformat": 4,
 "nbformat_minor": 0
}
