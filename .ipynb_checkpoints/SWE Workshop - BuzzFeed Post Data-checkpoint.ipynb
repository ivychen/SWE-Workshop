{
 "cells": [
  {
   "cell_type": "markdown",
   "metadata": {},
   "source": [
    "# _Big Discoveries with Big Data_\n",
    "\n",
    "#### From outing years of rigging behind some of the biggest games in sports, to shedding light on the slumlords of the nation’s major cities, to capturing and counting sunspots, data science serves one of the greatest roles in modern-day mystery solving and crime fighting. Data science discoveries have paved the way for incredible and sometimes shocking revelations in all sorts of topics ranging from climate science to the drug market. Learn how to manipulate massive amounts of data in order to find patterns in the chaos and help make the world a better place, data set by data set!\n",
    "\n",
    "## The Post Heard Round The World\n",
    "\n",
    "\n",
    "In this data visualization, we'll study the path of an international BuzzFeed post (\"[31 Special Feelings That Every Dog Owner Is Familiar With](http://www.buzzfeed.com/regajha/feelings-that-every-dog-owner-is-familiar-with#.fk9yQ9Bq0)\"). As an internet media company providing news and entertainment to the world, BuzzFeed is driven by its online audience. As a result, BuzzFeed keeps data on its web traffic to research what sort of topics viewers are engaged by. \n",
    "\n",
    "In this workshop, we'll see how this particular article's audience views differ by region and across time.\n",
    "\n",
    "### Questions to Consider:\n",
    "\n",
    "- What are some ways we can visualize data?\n",
    "\n",
    "- What trends do we find in how viewer traffic spans across the globe?\n",
    "\n",
    "- Is there a pattern to what makes a post go viral?\n",
    "\n",
    "Segments of code, examples, visuals, tests they can implement in python notebook:\n",
    "\n",
    "Answer for question, analysis/summary of the data they just played with:"
   ]
  },
  {
   "cell_type": "code",
   "execution_count": 3,
   "metadata": {
    "collapsed": true
   },
   "outputs": [],
   "source": [
    "from IPython.display import (\n",
    "    display, display_html, display_png, display_svg\n",
    ")"
   ]
  },
  {
   "cell_type": "code",
   "execution_count": 4,
   "metadata": {
    "collapsed": true
   },
   "outputs": [],
   "source": [
    "%matplotlib inline\n",
    "import numpy as np\n",
    "import matplotlib.pyplot as plt"
   ]
  },
  {
   "cell_type": "markdown",
   "metadata": {},
   "source": [
    "### What Have We Learned? And What's Next?"
   ]
  },
  {
   "cell_type": "markdown",
   "metadata": {},
   "source": [
    "[Original BuzzFeed Article: The Post Heard 'Round the World](http://www.buzzfeed.com/anitamehrotra/the-post-heard-round-the-world#.tb2ZOYwjG)"
   ]
  }
 ],
 "metadata": {
  "kernelspec": {
   "display_name": "Python 3",
   "language": "python",
   "name": "python3"
  },
  "language_info": {
   "codemirror_mode": {
    "name": "ipython",
    "version": 3
   },
   "file_extension": ".py",
   "mimetype": "text/x-python",
   "name": "python",
   "nbconvert_exporter": "python",
   "pygments_lexer": "ipython3",
   "version": "3.5.1"
  }
 },
 "nbformat": 4,
 "nbformat_minor": 0
}
